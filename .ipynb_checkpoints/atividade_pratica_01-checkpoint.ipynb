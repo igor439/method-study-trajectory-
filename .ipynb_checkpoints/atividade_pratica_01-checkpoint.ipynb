{
 "cells": [
  {
   "cell_type": "markdown",
   "metadata": {
    "id": "45qjs0dpNsW1"
   },
   "source": [
    "# Atividade prática \n",
    "### Robô aspirador autônomo"
   ]
  },
  {
   "cell_type": "markdown",
   "metadata": {
    "id": "12jtLtXINsXI"
   },
   "source": [
    "Vocês estão projetando um sistema para calcular a trajetória de um robô aspirador autônomo.\n",
    "Inicialmente, o sistema deve ser capaz de conduzir o robô ladeando as paredes de um cômodo sem que haja colisões.\n",
    "Por isso, ele deverá passar pelo seguinte teste."
   ]
  },
  {
   "cell_type": "markdown",
   "metadata": {
    "id": "hZD32vLBNsXL"
   },
   "source": [
    "Considerem uma parede representada por uma reta $L$ no plano euclideano, definida pelos pontos $P(12,12)$ e $Q(24,24)$.\n",
    "Suponha o robô inicialmente posicionado no ponto $O(0,17\\delta)$, onde $\\delta = 2^{-53}$.\n",
    "A tarefa de vocês é calcular uma trajetória para que o robô se desloque até que a distância horizontal entre $O$ e sua posição ao final da trajetória atinja $34\\delta$."
   ]
  },
  {
   "cell_type": "markdown",
   "metadata": {
    "id": "Ux9JOcBwNsXO"
   },
   "source": [
    "O robô deve se manter sempre o mais próximo possível da parede, mas nunca andar sobre ela, nem atravessá-la.\n",
    "A cada movimentação do robô, ele pode dar um passo de tamanho $\\delta$ ao longo do eixo $x$ (andar na horizontal) ou do eixo $y$ (andar na vertical), ou de ambos ao mesmo tempo (andar na diagonal)."
   ]
  },
  {
   "cell_type": "markdown",
   "metadata": {
    "id": "zkHoVD_RNsXQ"
   },
   "source": [
    "## Teste de orientação"
   ]
  },
  {
   "cell_type": "markdown",
   "metadata": {
    "id": "Z-FSAfRKNsXS"
   },
   "source": [
    "Os únicos dados que estarão disponíveis para embasar a decisão de parada ou movimentação do robô serão os pontos $O(O_x, O_y)$, $P(P_x, P_y)$, $Q(Q_x, Q_y)$ e sua posição atual, denotada por $R(R_x,R_y)$.\n",
    "Da geometria analítica, sabemos que é possível classificar a posição relativa do ponto $R$ com relação à reta $L$ gerada por $P$ e $Q$ como:"
   ]
  },
  {
   "cell_type": "markdown",
   "metadata": {
    "id": "sq2JNWoANsXU"
   },
   "source": [
    "* à esquerda de $L$;\n",
    "* sobre a reta $L$;\n",
    "* à direita de $L$."
   ]
  },
  {
   "cell_type": "markdown",
   "metadata": {
    "id": "084ueQxVNsXW"
   },
   "source": [
    "Algebricamente, a orientação estabelecida pelos pontos $P$, $Q$ e $R$ varia de acordo com o sinal de um determinante:"
   ]
  },
  {
   "cell_type": "markdown",
   "metadata": {
    "id": "wDJhjnarNsXY"
   },
   "source": [
    "\\begin{align*}\n",
    "\\operatorname{orientacao}(P,Q,R) &= \n",
    "\\operatorname{sinal}\\left(\\det \\begin{bmatrix}1 & P_x & P_y\\\\\n",
    "1 & Q_x & Q_y\\\\\n",
    "1 & R_x & R_y \\end{bmatrix}\\right).\n",
    "\\end{align*}"
   ]
  },
  {
   "cell_type": "markdown",
   "metadata": {
    "id": "TdeIZvVSNsXa"
   },
   "source": [
    "O resultado será $\\operatorname{orientacao}(P, Q, R) = +1$ se e somente se o ponto $R$ estiver à esquerda da reta $L$.\n",
    "Já quando $\\operatorname{orientacao}(P, Q, R)$ for igual a $-1$, o ponto $R$ estará à direita de $L$.\n",
    "Os pontos serão colineares quando obtivermos $\\operatorname{orientacao}(P, Q, R) = 0$."
   ]
  },
  {
   "cell_type": "markdown",
   "metadata": {
    "id": "zXwSDJbjNsXd"
   },
   "source": [
    "## Cálculo da trajetória"
   ]
  },
  {
   "cell_type": "markdown",
   "metadata": {
    "id": "_kr1tW7uNsXf"
   },
   "source": [
    "*(a) Descrevam abaixo, em palavras, o algoritmo para o cálculo da trajetória do robô. Caso necessário, vocês poderão inserir figuras para ilustrar seu funcionamento. É mandatório o emprego do teste de orientação apresentado anteriormente.*"
   ]
  },
  {
   "cell_type": "markdown",
   "metadata": {
    "id": "54jSqoI9NsXg"
   },
   "source": [
    "A partir de uma reta do tipo Ax + B que contenha as \n",
    "coordenadas do plano euclidiano que descreve a parede. O algoritmo se dividirá em duas etapas. Etapa um, definir uma reta em direção a parede e segui-la. Chegando o mais próximo quanto possível da parede, a segunda etapa da trajetória é definir e seguir  uma reta paralela e por conseguinte, de mesma inclinação da reta que descreve a parede até coordenada desejada.\n"
   ]
  },
  {
   "cell_type": "markdown",
   "metadata": {
    "id": "8DymxHS5NsXi"
   },
   "source": [
    "*(b) Coloquem na célula abaixo a implementação do algoritmo que acabaram de descrever.\n",
    " É mandatório o uso do teste de orientação apresentado anteriormente.\n",
    " Deve-se usar o tipo `float` da Python para armazenar as coordenadas dos pontos.*"
   ]
  },
  {
   "cell_type": "code",
   "execution_count": 1,
   "metadata": {
    "colab": {
     "base_uri": "https://localhost:8080/"
    },
    "id": "06dGWyrvNsXj",
    "outputId": "5c19a2a2-7a0e-4bc7-b365-e0ee6c1ceb42"
   },
   "outputs": [
    {
     "ename": "ModuleNotFoundError",
     "evalue": "No module named 'numpy'",
     "output_type": "error",
     "traceback": [
      "\u001b[1;31m---------------------------------------------------------------------------\u001b[0m",
      "\u001b[1;31mModuleNotFoundError\u001b[0m                       Traceback (most recent call last)",
      "Cell \u001b[1;32mIn [1], line 3\u001b[0m\n\u001b[0;32m      1\u001b[0m \u001b[38;5;66;03m# Digite sua implementação do algoritmo aqui.\u001b[39;00m\n\u001b[1;32m----> 3\u001b[0m \u001b[38;5;28;01mimport\u001b[39;00m \u001b[38;5;21;01mnumpy\u001b[39;00m \u001b[38;5;28;01mas\u001b[39;00m \u001b[38;5;21;01mnp\u001b[39;00m\n\u001b[0;32m      4\u001b[0m \u001b[38;5;28;01mimport\u001b[39;00m \u001b[38;5;21;01mmatplotlib\u001b[39;00m\u001b[38;5;21;01m.\u001b[39;00m\u001b[38;5;21;01mpyplot\u001b[39;00m \u001b[38;5;28;01mas\u001b[39;00m \u001b[38;5;21;01mplt\u001b[39;00m\n\u001b[0;32m      5\u001b[0m \u001b[38;5;28;01mimport\u001b[39;00m \u001b[38;5;21;01mmath\u001b[39;00m\n",
      "\u001b[1;31mModuleNotFoundError\u001b[0m: No module named 'numpy'"
     ]
    }
   ],
   "source": [
    "# Digite sua implementação do algoritmo aqui.\n",
    " \n",
    "import numpy as np\n",
    "import matplotlib.pyplot as plt\n",
    "import math\n",
    "from matplotlib.animation import FuncAnimation\n",
    " \n",
    " \n",
    "def robo(x , y, x_p, y_p, x_q, y_q):\n",
    "  delta = 2**-53\n",
    " \n",
    "  #garantindo a escala\n",
    "  x = x*delta\n",
    "  y = y*delta\n",
    " \n",
    "  #garantindo valores float\n",
    "  x_p = x_p * 1.0\n",
    "  y_p = y_p * 1.0\n",
    " \n",
    "  x_q = x_q * 1.0\n",
    "  y_q = y_q * 1.0 \n",
    " \n",
    "  matriz = ([[1,x_p,y_p],[1,x_q,y_q],[1,x,y]])\n",
    "  det = np.linalg.det(matriz)\n",
    "  sinal = np.sign(det)\n",
    " \n",
    "  # Coeficientes da reta que descreve a parede\n",
    "  A = (y_q - y_p)/(x_q - x_p)\n",
    "  B = ((x_q*y_p)-(x_p*y_q)) / (x_q - x_p) \n",
    " \n",
    "  # reta r0 que decreve a parede com par ordenado (x0,y0)\n",
    "  # y0 = r0 = A*x0 + B\n",
    " \n",
    "  # reta r1 de trajetória para a parede com par ordenado (x1,y1)\n",
    "  # y1 = r1 = -A*x1 + (y + A*x)\n",
    " \n",
    "  # reta r2 paralela a parede com par ordenado (x2,y2), que será a trajetória do robô\n",
    "  # y2 = r2 = A*x2 + (B + sinal*delta)\n",
    " \n",
    "  #intercessão da reta r1 e r2, fim da nossa caminhada até a parede\n",
    "  Xf = ((y + A*x) - (B + sinal*delta))/(2*A)\n",
    "  Yf = ((y + A*x) + (B + sinal*delta))/2\n",
    " \n",
    "  #ponto de partida\n",
    "  Xi = x\n",
    "  Yi = y\n",
    " \n",
    "  print(\"Indo até próximo da parede \\n\")\n",
    "  distancia1 = math.sqrt((Xf - Xi)**2 + (Yf - Yi)**2)\n",
    "  #array de coordenadas de aproximação à parede\n",
    "  array1 = np.array(Xi)\n",
    "  array2 = np.array(Yi)\n",
    " \n",
    "  while ((Xi != Xf) and (Yi != Yf)):\n",
    " \n",
    "    Xi = Xi + delta*sinal\n",
    "    array1 = np.append(array1,Xi)\n",
    " \n",
    "    Yi = -A*Xi + (y + A*x)\n",
    "    array2 = np.append(array2,Yi)\n",
    "    print(Xi, Yi)\n",
    "    #deu um passo na diagonal\n",
    "  \n",
    "  print(\"\\nDistância percorrida até próximo da parede \",distancia1, \"\\n\")\n",
    " \n",
    "  #Ponto de parada final\n",
    "  Xf = x + (34*delta)\n",
    "  Yf = A*(x + (34*delta)) + (B + (delta*sinal))\n",
    " \n",
    "  distancia2 = math.sqrt((Xf - Xi)**2 + (Yf - Yi)**2)\n",
    " \n",
    "  array3 = np.array(Xi)\n",
    "  array4 = np.array(Yi)\n",
    " \n",
    "  print(\"\\n Indo ao destino final \\n\")\n",
    "  while ((Xi != Xf) and (Yi != Yf )):\n",
    " \n",
    "    Xi = Xi + delta*sinal\n",
    "    array3 = np.append(array3,Xi)\n",
    " \n",
    "    Yi = A*Xi + (B + sinal*delta)\n",
    "    array4 = np.append(array4,Yi)\n",
    "    print(Xi, Yi)\n",
    "    #deu um passo na diagonal\n",
    "  \n",
    "  print(\"\\nDistância percorrida ao chegar próximo da parede até o destino final\", distancia2, \"\\n\\n\")\n",
    " \n",
    "  #Plotar o grafico\n",
    " \n",
    "  #Gerar as ultimas coordenadas pro plot\n",
    "  array5 = np.array(0)\n",
    "  array6 = np.array(0)\n",
    "  Xi = 0\n",
    "  Yi = 0\n",
    " \n",
    "  while (Xi != Xf):\n",
    " \n",
    "    Xi = Xi + delta*sinal\n",
    "    array5 = np.append(array5,Xi)\n",
    " \n",
    "    Yi = A*Xi + B\n",
    "    array6 = np.append(array6,Yi)\n",
    " \n",
    "  distanciatotal = distancia1 + distancia2\n",
    "  return array1,array2,array3,array4,array5,array6, distanciatotal\n",
    " \n",
    " \n",
    " \n",
    "array1,array2,array3,array4,array5,array6,distan = robo(0.0, 17.0, 12.0, 12.0, 24.0, 24.0)"
   ]
  },
  {
   "cell_type": "markdown",
   "metadata": {
    "id": "L4TU5NZmNsXm"
   },
   "source": [
    "## Desenho da trajetória"
   ]
  },
  {
   "cell_type": "markdown",
   "metadata": {
    "id": "Pq5MUb1INsXn"
   },
   "source": [
    "*(c) Desenhe a trajetória calculada usando a matplotlib. Fique à vontade para produzir animações.*"
   ]
  },
  {
   "cell_type": "code",
   "execution_count": null,
   "metadata": {
    "colab": {
     "base_uri": "https://localhost:8080/",
     "height": 323
    },
    "id": "hc9ZTQFtNsXo",
    "outputId": "8493a5a8-3811-4471-b1b4-038a290f5bfa"
   },
   "outputs": [
    {
     "name": "stdout",
     "output_type": "stream",
     "text": [
      "Grafico do trajeto em relação a parede\n"
     ]
    },
    {
     "data": {
      "text/plain": [
       "<matplotlib.legend.Legend at 0x7f5aae5046d0>"
      ]
     },
     "execution_count": 3,
     "metadata": {
      "tags": []
     },
     "output_type": "execute_result"
    },
    {
     "data": {
      "image/png": "[encoded data removed]",
      "text/plain": [
       "<Figure size 432x288 with 1 Axes>"
      ]
     },
     "metadata": {
      "needs_background": "light",
      "tags": []
     },
     "output_type": "display_data"
    }
   ],
   "source": [
    "# Digite o código para desenhar a trajetória aqui.\n",
    "print(\"Grafico do trajeto em relação a parede\")\n",
    "plt.plot(array1,array2,array3,array4,array5,array6)\n",
    "plt.legend([\"r1\",\"r2\",\"r0\"])"
   ]
  },
  {
   "cell_type": "markdown",
   "metadata": {
    "id": "8UprBtkRNsXp"
   },
   "source": [
    "## Comprimento da trajetória"
   ]
  },
  {
   "cell_type": "markdown",
   "metadata": {
    "id": "4LNeo85rNsX2"
   },
   "source": [
    "*(d) Calcule e exiba na tela o comprimento da trajetória calculada.*"
   ]
  },
  {
   "cell_type": "code",
   "execution_count": null,
   "metadata": {
    "colab": {
     "base_uri": "https://localhost:8080/"
    },
    "id": "H1a33rtbNsX3",
    "outputId": "4d4fcbb0-75ba-494d-b949-44915900269b"
   },
   "outputs": [
    {
     "name": "stdout",
     "output_type": "stream",
     "text": [
      "\n",
      "Distância final percorrida pelas retas r1 e r2:  5.338314359524835e-15\n",
      "Como δ (delta) é 2^(-53), a distância é 36,76955262170046987792703029248 δ ou  26✓2δ\n"
     ]
    }
   ],
   "source": [
    "# Digite o código para calcular o comprimento da trajetória aqui.\n",
    "\n",
    "print(\"\\nDistância final percorrida pelas retas r1 e r2: \", distan)\n",
    "print(\"Como δ (delta) é 2^(-53), a distância é 36,76955262170046987792703029248 δ ou  26✓2δ\")"
   ]
  },
  {
   "cell_type": "markdown",
   "metadata": {
    "id": "-EmTdni6NsX4"
   },
   "source": [
    "## Considerações finais"
   ]
  },
  {
   "cell_type": "markdown",
   "metadata": {
    "id": "QBD9PvX8NsX5"
   },
   "source": [
    "*(e) O que você achou da sua solução? Ela é a melhor possível? Quais foram as principais dificuldades encontradas?*"
   ]
  },
  {
   "cell_type": "markdown",
   "metadata": {
    "id": "2-b1UP9WNsX6"
   },
   "source": [
    "*A solução não é a mais curta possível. Contudo é a mais geral, uma vez que usa dos coeficientes angulares das retas para esboçar uma trajetória rente a parede independente de onde o robô esteja, ou a parede. A solução é válida desde que não haja obstáculos à trajetória. Além disso, o robô deu os minimos 26 movimentos necessários para chegar ao destino.*\n",
    "\n"
   ]
  }
 ],
 "metadata": {
  "colab": {
   "collapsed_sections": [],
   "provenance": []
  },
  "kernelspec": {
   "display_name": "Python 3 (ipykernel)",
   "language": "python",
   "name": "python3"
  },
  "language_info": {
   "codemirror_mode": {
    "name": "ipython",
    "version": 3
   },
   "file_extension": ".py",
   "mimetype": "text/x-python",
   "name": "python",
   "nbconvert_exporter": "python",
   "pygments_lexer": "ipython3",
   "version": "3.10.4"
  },
  "vscode": {
   "interpreter": {
    "hash": "fd529dc6fbfaa765f40188c663ef5be544b220b400467ccee53e2d76375029e6"
   }
  }
 },
 "nbformat": 4,
 "nbformat_minor": 1
}
